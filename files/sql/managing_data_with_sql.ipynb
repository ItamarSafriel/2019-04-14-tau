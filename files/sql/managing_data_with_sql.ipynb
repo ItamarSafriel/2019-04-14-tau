{
 "cells": [
  {
   "attachments": {},
   "cell_type": "markdown",
   "metadata": {
    "slideshow": {
     "slide_type": "slide"
    }
   },
   "source": [
    "# Types of Databases\n",
    "\n",
    "<img src=\"https://www.agiratech.com/wp-content/uploads/2018/06/Relational-vs-non-relational.jpg\" />"
   ]
  },
  {
   "cell_type": "markdown",
   "metadata": {
    "slideshow": {
     "slide_type": "subslide"
    }
   },
   "source": [
    "### Relational\n",
    "- Represent and store data in tables and rows.\n",
    "- Use Structured Query Language (`SQL`), which is like a programming language for relational databases.\n",
    "- Examples include `SQLite`, `MySQL`, `PostreSQL`, `T-SQL`.\n",
    "\n",
    "### Non-relational\n",
    "- Represent and store data as collections of documents, objects, key-value stores, or heirarchal data formats.\n",
    "- Also known as \"NoSQL\" databases.\n",
    "- Examples include `JSON`, `MongoDB`."
   ]
  },
  {
   "cell_type": "markdown",
   "metadata": {
    "slideshow": {
     "slide_type": "slide"
    }
   },
   "source": [
    "# SQL: Structured Query Language\n",
    "\n",
    "- Programming language for storing, manipulating, and retreiving data stored in a relational database.\n",
    "- All relational database management systems (e.g. `MySQL`, `SQLite`, `PostgreSQL`) use `SQL` as their standard database landuage.\n",
    "- `SQL` can have different *dialects* that contain small, subtle differences (just like there are different *accents* in the english language). For example, a string-like data type in `MySQL` is defined as **`STRING`**, while in `SQLite` it is defined as **`TEXT`**. \n",
    "- However, the vast majority of `SQL` is the same in all relational database management systems."
   ]
  },
  {
   "cell_type": "markdown",
   "metadata": {
    "slideshow": {
     "slide_type": "slide"
    }
   },
   "source": [
    "# What will we learn?\n",
    "\n",
    "In this lesson, we will learn how to retreive astronomical data from a `SQLite` database.\n",
    "\n",
    "- How to retrieve data from a database\n",
    "- How to select a subset of the data\n",
    "- How to sort a query's results\n",
    "- How to combine data from multiple tables\n",
    "\n",
    "We will first learn how to do this through the `SQLite` command line interface, then we will learn how to accomplish the same tasks using Python."
   ]
  },
  {
   "cell_type": "markdown",
   "metadata": {
    "slideshow": {
     "slide_type": "slide"
    }
   },
   "source": [
    "# The `hipparcos.db` Database\n",
    "\n",
    "In this lesson, we will use with the `hipparcos.db` database, which stores data from the Extended Hipparcos Compilation (XHIP).  \n",
    "\n",
    "It contains:\n",
    "- Spectral classificaitons\n",
    "- Radial velocities\n",
    "- Iron abundances\n",
    "- Stellar classifications\n",
    "- Stellar ages\n",
    "- 2MASS photometry\n",
    "\n",
    "The database can be downloaded from this URL:\n",
    "\n",
    "https://www.dropbox.com/s/o80up2k4h3z7uud/hipparcos.db?dl=0\n",
    "\n",
    "This database contains two tables, named `data` and `photometry`.  The `data` table stores astrometry, spectroscopy, space motions, and exoplanet indications.  The `photometry` tables stores photometry information."
   ]
  },
  {
   "cell_type": "markdown",
   "metadata": {
    "slideshow": {
     "slide_type": "slide"
    }
   },
   "source": [
    "# Opening and Navigating the Database\n",
    "\n",
    "To connect to the database, we can use the `sqlite3` command line interface:\n",
    "\n",
    "```\n",
    ">>> sqlite3 hipparcos.db\n",
    "```\n",
    "\n",
    "```\n",
    "SQLite version 3.13.0 2016-05-18 10:57:30\n",
    "Enter \".help\" for usage hints.\n",
    "```"
   ]
  },
  {
   "cell_type": "markdown",
   "metadata": {
    "slideshow": {
     "slide_type": "fragment"
    }
   },
   "source": [
    "**Excercise 1:** Try connecting to the `hipparcos.db` database.  Use the `.help` command to determine which command to use to list the names of tables of the database and run it."
   ]
  },
  {
   "cell_type": "markdown",
   "metadata": {
    "slideshow": {
     "slide_type": "slide"
    }
   },
   "source": [
    "To make the output a bit more human-readable, let's run the following commands:\n",
    "\n",
    "```\n",
    ".mode column\n",
    ".headers on\n",
    "```\n",
    "\n",
    "In `sqlite`, we can list the columns of a table using the `PRAGMA table_info()` command:\n",
    "\n",
    "```\n",
    "PRAGMA table_info(data);\n",
    "```"
   ]
  },
  {
   "cell_type": "markdown",
   "metadata": {
    "slideshow": {
     "slide_type": "fragment"
    }
   },
   "source": [
    "**Excercise 2:** List all of the columns in the `photometry` table.  How many columns are there?"
   ]
  },
  {
   "cell_type": "markdown",
   "metadata": {
    "slideshow": {
     "slide_type": "slide"
    }
   },
   "source": [
    "# Selecting everything from a table"
   ]
  },
  {
   "cell_type": "markdown",
   "metadata": {
    "slideshow": {
     "slide_type": "fragment"
    }
   },
   "source": [
    "```SQL\n",
    "SELECT *\n",
    "FROM <table_name>;\n",
    "```\n",
    "\n",
    "for example:\n",
    "\n",
    "```SQL\n",
    "SELECT *\n",
    "FROM data;\n",
    "```"
   ]
  },
  {
   "cell_type": "markdown",
   "metadata": {
    "slideshow": {
     "slide_type": "fragment"
    }
   },
   "source": [
    "Note that we can also limit the number of results returned:\n",
    "\n",
    "```SQL\n",
    "SELECT *\n",
    "FROM data\n",
    "LIMIT 10;\n",
    "```"
   ]
  },
  {
   "cell_type": "markdown",
   "metadata": {
    "slideshow": {
     "slide_type": "subslide"
    }
   },
   "source": [
    "**Excercise 3:** Write a query that selects all columns from the `photometry` table and limits the results to 50 rows."
   ]
  },
  {
   "cell_type": "markdown",
   "metadata": {
    "slideshow": {
     "slide_type": "fragment"
    }
   },
   "source": [
    "*Solution*:\n",
    "\n",
    "```SQL\n",
    "SELECT *\n",
    "FROM photometry\n",
    "LIMIT 50;\n",
    "```"
   ]
  },
  {
   "cell_type": "markdown",
   "metadata": {
    "slideshow": {
     "slide_type": "slide"
    }
   },
   "source": [
    "# Filtering specific columns"
   ]
  },
  {
   "cell_type": "markdown",
   "metadata": {
    "slideshow": {
     "slide_type": "fragment"
    }
   },
   "source": [
    "```SQL\n",
    "SELECT <column1_name>, <column2_name>, ..., <columnN_name>\n",
    "FROM <table_name>;\n",
    "```\n",
    "\n",
    "for example:\n",
    "\n",
    "```SQL\n",
    "SELECT HIP, RV, e_RV\n",
    "FROM data;\n",
    "```"
   ]
  },
  {
   "cell_type": "markdown",
   "metadata": {
    "slideshow": {
     "slide_type": "subslide"
    }
   },
   "source": [
    "**Exercise 4**: Write a query that selects the Hipparcos Identifier, the Hipparcos magnitude, and the variability period from the `photometry` table.  You may need to list the table's columns or refer to the documentation to check their column name."
   ]
  },
  {
   "cell_type": "markdown",
   "metadata": {
    "slideshow": {
     "slide_type": "fragment"
    }
   },
   "source": [
    "_Solution:_\n",
    "```SQL\n",
    "SELECT HIP, Hpmag, Per\n",
    "FROM photometry;\n",
    "```"
   ]
  },
  {
   "cell_type": "markdown",
   "metadata": {
    "slideshow": {
     "slide_type": "slide"
    }
   },
   "source": [
    "# Filtering specific rows"
   ]
  },
  {
   "cell_type": "markdown",
   "metadata": {
    "slideshow": {
     "slide_type": "fragment"
    }
   },
   "source": [
    "```SQL\n",
    "SELECT <column1_name>, <column2_name>, ..., <columnN_name>\n",
    "FROM <table_name>\n",
    "WHERE <column_name> <condition>;\n",
    "```\n",
    "\n",
    "for example:\n",
    "\n",
    "```SQL\n",
    "SELECT HIP, RV, e_RV\n",
    "FROM data\n",
    "WHERE RV != 0;\n",
    "```"
   ]
  },
  {
   "cell_type": "markdown",
   "metadata": {
    "slideshow": {
     "slide_type": "subslide"
    }
   },
   "source": [
    "More conditions can be added to the query using the `AND` command.  There is no limit to the number of conditions you can put on a query.\n",
    "\n",
    "\n",
    "```SQL\n",
    "SELECT <column1_name>, <column2_name>, ..., <columnN_name>\n",
    "FROM <table_name>\n",
    "WHERE <column_name> <condition>\n",
    "AND <column_name> <condition>\n",
    "...\n",
    "AND <column_name> <condition>;\n",
    "```\n",
    "\n",
    "for example:\n",
    "```SQL\n",
    "SELECT HIP, RV, e_RV\n",
    "FROM data\n",
    "WHERE RV != 0\n",
    "AND e_RV < 1;\n",
    "```"
   ]
  },
  {
   "cell_type": "markdown",
   "metadata": {
    "slideshow": {
     "slide_type": "subslide"
    }
   },
   "source": [
    "**Exercise 5:** Write a query that selects the Hipparcos indentifier, the Johnson B apparent magnitute, the Johnson V apparent magnitude, and the variability period.  Only select sources whose variability period and B-magnitute are non-zero, and have a B-magnitude less than 10.  "
   ]
  },
  {
   "cell_type": "markdown",
   "metadata": {
    "slideshow": {
     "slide_type": "fragment"
    }
   },
   "source": [
    "_Solution:_\n",
    "\n",
    "```SQL\n",
    "SELECT HIP, Bmag, Vmag, Per\n",
    "FROM photometry\n",
    "WHERE Per != 0\n",
    "AND Bmag != 0\n",
    "AND Bmag < 10;\n",
    "```"
   ]
  },
  {
   "cell_type": "markdown",
   "metadata": {
    "slideshow": {
     "slide_type": "slide"
    }
   },
   "source": [
    "# Sorting results"
   ]
  },
  {
   "cell_type": "markdown",
   "metadata": {
    "slideshow": {
     "slide_type": "fragment"
    }
   },
   "source": [
    "```SQL\n",
    "SELECT <column1_name>, <column2_name>, ..., <columnN_name>\n",
    "FROM <table_name>\n",
    "WHERE <column_name> <condition>\n",
    "AND <column_name> <condition>\n",
    "...\n",
    "AND <column_name> <condition>\n",
    "ORDER BY <column_name>;\n",
    "```\n",
    "\n",
    "for example:\n",
    "\n",
    "```SQL\n",
    "SELECT HIP, Bmag, Vmag, Per\n",
    "FROM photometry\n",
    "WHERE Per != 0\n",
    "AND Bmag != 0\n",
    "AND Bmag < 10\n",
    "ORDER BY Vmag;\n",
    "```"
   ]
  },
  {
   "cell_type": "markdown",
   "metadata": {
    "slideshow": {
     "slide_type": "subslide"
    }
   },
   "source": [
    "**Exercise 6:** Write a query that selects the Hipparcos identifer, the Johnson B and V apparent magnitudes, and the variability period.  Only select sources whose V-magnitude is greater than 11, and whose variability type is 'P'.  Order the results by the variability period. "
   ]
  },
  {
   "cell_type": "markdown",
   "metadata": {
    "slideshow": {
     "slide_type": "fragment"
    }
   },
   "source": [
    "_Solution:_\n",
    "\n",
    "```SQL\n",
    "SELECT HIP, Bmag, Vmag, Per\n",
    "FROM photometry\n",
    "WHERE Vmag > 11\n",
    "AND Hvar = 'P'\n",
    "ORDER BY Per;\n",
    "```"
   ]
  },
  {
   "cell_type": "markdown",
   "metadata": {
    "slideshow": {
     "slide_type": "slide"
    }
   },
   "source": [
    "# Joining Tables"
   ]
  },
  {
   "cell_type": "markdown",
   "metadata": {
    "slideshow": {
     "slide_type": "fragment"
    }
   },
   "source": [
    "<img src=\"https://image.slidesharecdn.com/2-background-140403152126-phpapp02/95/database-2-background-30-638.jpg?cb=1396538564\" />"
   ]
  },
  {
   "cell_type": "markdown",
   "metadata": {
    "slideshow": {
     "slide_type": "subslide"
    }
   },
   "source": [
    "```SQL\n",
    "SELECT <column1_name>, <column2_name>, ..., <columnN_name>\n",
    "FROM <table1_name>\n",
    "JOIN <table2_name> ON <condition>;\n",
    "```\n",
    "\n",
    "for example:\n",
    "\n",
    "```SQL\n",
    "SELECT data.HIP, pmRA, pmDE, Bmag, Vmag\n",
    "FROM data\n",
    "JOIN photometry ON data.HIP = photometry.HIP;\n",
    "```"
   ]
  },
  {
   "cell_type": "markdown",
   "metadata": {
    "slideshow": {
     "slide_type": "fragment"
    }
   },
   "source": [
    "Note that `WHERE`, `AND`, and `ORDER BY` conditions can be applied to the query after the `JOIN`, for example:\n",
    "\n",
    "```SQL\n",
    "SELECT data.HIP, pmRA, pmDE, Bmag, Vmag\n",
    "FROM data\n",
    "JOIN photometry ON data.HIP = photometry.HIP\n",
    "WHERE Vmag > 11\n",
    "AND Bmag > 11\n",
    "ORDER BY Vmag;\n",
    "```"
   ]
  },
  {
   "cell_type": "markdown",
   "metadata": {
    "slideshow": {
     "slide_type": "subslide"
    }
   },
   "source": [
    "**Exercise 7:** Using `JOIN`, write a query that selects the Hipparcos identifier and the radial velocity from the `data` table, as well as the Johnson B and V apparent magnitudes from the `photometry` table. Only select sources whose radial velocity are greater than 0, and order the results by the Johnson B magnitude."
   ]
  },
  {
   "cell_type": "markdown",
   "metadata": {
    "slideshow": {
     "slide_type": "fragment"
    }
   },
   "source": [
    "_Solution:_\n",
    "\n",
    "```SQL\n",
    "SELECT data.HIP, RV, Bmag, Vmag\n",
    "FROM data\n",
    "JOIN photometry ON data.HIP = photometry.HIP\n",
    "WHERE RV > 0\n",
    "ORDER By Vmag;\n",
    "```"
   ]
  },
  {
   "cell_type": "markdown",
   "metadata": {
    "slideshow": {
     "slide_type": "slide"
    }
   },
   "source": [
    "# Programming with Databases using Python"
   ]
  },
  {
   "cell_type": "markdown",
   "metadata": {
    "slideshow": {
     "slide_type": "fragment"
    }
   },
   "source": [
    "We have now learned how to retreive, filter, and sort data from a `SQL` database using the `SQLite` command line interface.  The same tasks can be performed in Python, using the `sqlite3` library."
   ]
  },
  {
   "cell_type": "code",
   "execution_count": 1,
   "metadata": {
    "slideshow": {
     "slide_type": "fragment"
    }
   },
   "outputs": [],
   "source": [
    "import sqlite3"
   ]
  },
  {
   "cell_type": "markdown",
   "metadata": {
    "slideshow": {
     "slide_type": "fragment"
    }
   },
   "source": [
    "To connect to the database, we can use the `sqlite3.connect()` method:"
   ]
  },
  {
   "cell_type": "code",
   "execution_count": 2,
   "metadata": {
    "slideshow": {
     "slide_type": "fragment"
    }
   },
   "outputs": [],
   "source": [
    "connection = sqlite3.connect(\"/Users/griffin/Downloads/hipparcos.db\")"
   ]
  },
  {
   "cell_type": "markdown",
   "metadata": {
    "slideshow": {
     "slide_type": "subslide"
    }
   },
   "source": [
    "Next, we set up a `cursor` object, which will later allow us to execute `SQL` commands:"
   ]
  },
  {
   "cell_type": "code",
   "execution_count": 3,
   "metadata": {
    "slideshow": {
     "slide_type": "fragment"
    }
   },
   "outputs": [],
   "source": [
    "cursor = connection.cursor()"
   ]
  },
  {
   "cell_type": "markdown",
   "metadata": {
    "slideshow": {
     "slide_type": "fragment"
    }
   },
   "source": [
    "Executing a database query is not as simple as passing the hard-coded query to the `cursor.execute()` command:\n",
    "\n",
    "```python\n",
    "cursor.execute(\"<SQL COMMAND>;\")\n",
    "```\n",
    "\n",
    "For example:"
   ]
  },
  {
   "cell_type": "code",
   "execution_count": 4,
   "metadata": {
    "slideshow": {
     "slide_type": "fragment"
    }
   },
   "outputs": [
    {
     "data": {
      "text/plain": [
       "<sqlite3.Cursor at 0x111285490>"
      ]
     },
     "execution_count": 4,
     "metadata": {},
     "output_type": "execute_result"
    }
   ],
   "source": [
    "sql_command = \"\"\"\n",
    "    SELECT data.HIP, RV, Bmag, Vmag\n",
    "    FROM data\n",
    "    JOIN photometry ON data.HIP = photometry.HIP\n",
    "    WHERE RV > 0\n",
    "    ORDER BY Bmag\n",
    "    LIMIT 20;\n",
    "    \"\"\"\n",
    "cursor.execute(sql_command)"
   ]
  },
  {
   "cell_type": "markdown",
   "metadata": {
    "slideshow": {
     "slide_type": "subslide"
    }
   },
   "source": [
    "To retreive the results of the query, we can use the `cursor.fetchall()` method.  This returns a list of tuples, with each element in the list being a row of results:"
   ]
  },
  {
   "cell_type": "code",
   "execution_count": 5,
   "metadata": {
    "slideshow": {
     "slide_type": "fragment"
    }
   },
   "outputs": [
    {
     "name": "stdout",
     "output_type": "stream",
     "text": [
      "(30438, 20.299999237060547, -0.4560000002384186, -0.6200000047683716)\n",
      "(30438, 20.299999237060547, -0.4560000002384186, -0.6200000047683716)\n",
      "(30438, 20.299999237060547, -0.4560000002384186, -0.6200000047683716)\n",
      "(30438, 20.299999237060547, -0.4560000002384186, -0.6200000047683716)\n",
      "(53, 11.420000076293945, 0.0, 10.960000038146973)\n",
      "(53, 11.420000076293945, 0.0, 10.960000038146973)\n",
      "(3937, 6.0, 0.0, 12.010000228881836)\n",
      "(3937, 6.0, 0.0, 12.010000228881836)\n",
      "(4725, 57.0, 0.0, 11.800000190734863)\n",
      "(4725, 57.0, 0.0, 11.800000190734863)\n",
      "(6115, 130.0, 0.0, 11.630000114440918)\n",
      "(6115, 130.0, 0.0, 11.630000114440918)\n",
      "(8939, 24.0, 0.0, 12.369999885559082)\n",
      "(8939, 24.0, 0.0, 12.369999885559082)\n",
      "(11517, 9.0, 0.0, 11.850000381469727)\n",
      "(11517, 9.0, 0.0, 11.850000381469727)\n",
      "(12886, 28.0, 0.0, 10.800000190734863)\n",
      "(12886, 28.0, 0.0, 10.800000190734863)\n",
      "(14574, 11.800000190734863, 0.0, 11.720000267028809)\n",
      "(14574, 11.800000190734863, 0.0, 11.720000267028809)\n"
     ]
    }
   ],
   "source": [
    "results = cursor.fetchall()\n",
    "for result in results:\n",
    "    print(result)"
   ]
  },
  {
   "cell_type": "markdown",
   "metadata": {
    "slideshow": {
     "slide_type": "subslide"
    }
   },
   "source": [
    "With some unpacking, we can get lists of the results:"
   ]
  },
  {
   "cell_type": "code",
   "execution_count": 6,
   "metadata": {
    "slideshow": {
     "slide_type": "fragment"
    }
   },
   "outputs": [
    {
     "name": "stdout",
     "output_type": "stream",
     "text": [
      "[-0.6200000047683716, -0.6200000047683716, -0.6200000047683716, -0.6200000047683716, 10.960000038146973, 10.960000038146973, 12.010000228881836, 12.010000228881836, 11.800000190734863, 11.800000190734863, 11.630000114440918, 11.630000114440918, 12.369999885559082, 12.369999885559082, 11.850000381469727, 11.850000381469727, 10.800000190734863, 10.800000190734863, 11.720000267028809, 11.720000267028809]\n"
     ]
    }
   ],
   "source": [
    "HIPs = [item[0] for item in results]\n",
    "RVs = [item[1] for item in results]\n",
    "Bmags = [item[2] for item in results]\n",
    "Vmags = [item[3] for item in results]\n",
    "\n",
    "print(Vmags)"
   ]
  },
  {
   "cell_type": "markdown",
   "metadata": {
    "slideshow": {
     "slide_type": "subslide"
    }
   },
   "source": [
    "**Exercise 8:**\n",
    "\n",
    "1. Using `sqlite3` and python, query the database for `B-V` and Absolute V mag (i.e. `VAbsMag`) measurements.\n",
    "  - Select only sources that are have a Distance error (`e_Dist`) that is non-zero and less than 10. \n",
    "  - Also filter out non-zero `B-V` values\n",
    "  - *Hint: You will need to join the `data` and `photometry` tables.*\n",
    "  - *Hint: You will need to wrap \"B-V\" in double-quotes in the `SELECT` statement to avoid errors caused by the minus-sign.*\n",
    "2. Parse the results by creating a list that holds the `B-V` values and a list that holds the `VabsMag` values.\n",
    "3. Plot the results using `pyplot`.\n",
    "  - *Hint: astronomers can invert the y-axis using `ax.invert_yaxis()`.*\n",
    "\n",
    "**(Bonus) Exercise 9:**\n",
    "\n",
    "1. Execute the previous query, only this time add conditions to select only white dwarf stars (`\"B-V\" < 0.7`, `VAbsMag > 10`).\n",
    "2. Overplot the white dwarf stars on the plot from Excercise 8 using a different marker color."
   ]
  },
  {
   "cell_type": "markdown",
   "metadata": {
    "slideshow": {
     "slide_type": "subslide"
    }
   },
   "source": [
    "_Solution 8:_"
   ]
  },
  {
   "cell_type": "code",
   "execution_count": 7,
   "metadata": {
    "slideshow": {
     "slide_type": "fragment"
    }
   },
   "outputs": [],
   "source": [
    "sql_command = \"\"\"\n",
    "SELECT \"B-V\", VAbsMag\n",
    "FROM data\n",
    "JOIN photometry ON data.HIP = photometry.HIP\n",
    "WHERE e_Dist !=0\n",
    "AND e_Dist < 10\n",
    "AND \"B-V\" != 0;\n",
    "\"\"\"\n",
    "cursor.execute(sql_command)\n",
    "results = cursor.fetchall()\n",
    "\n",
    "BVs = [item[0] for item in results]\n",
    "VAbsMags = [item[1] for item in results]\n",
    "\n",
    "# The results are too long to print within a Jupyter notebook"
   ]
  },
  {
   "cell_type": "code",
   "execution_count": 8,
   "metadata": {
    "slideshow": {
     "slide_type": "subslide"
    }
   },
   "outputs": [
    {
     "data": {
      "image/png": "[encoded data removed]",
      "text/plain": [
       "<Figure size 432x288 with 1 Axes>"
      ]
     },
     "metadata": {
      "needs_background": "light"
     },
     "output_type": "display_data"
    }
   ],
   "source": [
    "import matplotlib.pyplot as plt\n",
    "%matplotlib inline\n",
    "\n",
    "ax = plt.axes()\n",
    "ax.plot(BVs, VAbsMags, ',')\n",
    "ax.set_xlabel('B-V [mag]')\n",
    "ax.set_ylabel('Absolute V [mag]')\n",
    "ax.invert_yaxis()"
   ]
  },
  {
   "cell_type": "code",
   "execution_count": 9,
   "metadata": {
    "slideshow": {
     "slide_type": "subslide"
    }
   },
   "outputs": [
    {
     "data": {
      "text/plain": [
       "<matplotlib.colorbar.Colorbar at 0x11011efd0>"
      ]
     },
     "execution_count": 9,
     "metadata": {},
     "output_type": "execute_result"
    },
    {
     "data": {
      "image/png": "[encoded data removed]",
      "text/plain": [
       "<Figure size 432x288 with 2 Axes>"
      ]
     },
     "metadata": {
      "needs_background": "light"
     },
     "output_type": "display_data"
    }
   ],
   "source": [
    "ax2 = plt.axes()\n",
    "_, _, _, img = ax2.hist2d(BVs, VAbsMags, bins=100)\n",
    "ax2.invert_yaxis()\n",
    "ax2.set_xlabel('B-V [mag]')\n",
    "ax2.set_ylabel('Absolute V [mag]')\n",
    "plt.colorbar(img)"
   ]
  },
  {
   "cell_type": "markdown",
   "metadata": {
    "slideshow": {
     "slide_type": "slide"
    }
   },
   "source": [
    "# Using `astroquery` to Query Online Databases\n",
    "\n",
    "`astroquery` is an Astropy-affiliated package to query various online astronomical (and other) databases, such as ADS, IRSA, MAST, NED, SDSS, Simbad, and VizieR (full list [here](https://astroquery.readthedocs.io/en/latest/)). If you don't already have it installed, run `conda install -c astropy astroquery`."
   ]
  },
  {
   "cell_type": "code",
   "execution_count": 10,
   "metadata": {
    "slideshow": {
     "slide_type": "subslide"
    }
   },
   "outputs": [
    {
     "data": {
      "text/html": [
       "<i>Table length=25</i>\n",
       "<table id=\"table4930201584\" class=\"table-striped table-bordered table-condensed\">\n",
       "<thead><tr><th>Filter_name</th><th>LamEff</th><th>A_over_E_B_V_SandF</th><th>A_SandF</th><th>A_over_E_B_V_SFD</th><th>A_SFD</th></tr></thead>\n",
       "<thead><tr><th></th><th>micron</th><th></th><th>mag</th><th></th><th>mag</th></tr></thead>\n",
       "<thead><tr><th>str8</th><th>float64</th><th>float64</th><th>float64</th><th>float64</th><th>float64</th></tr></thead>\n",
       "<tr><td>CTIO U</td><td>0.3734</td><td>4.107</td><td>0.036</td><td>4.968</td><td>0.044</td></tr>\n",
       "<tr><td>CTIO B</td><td>0.4309</td><td>3.641</td><td>0.032</td><td>4.325</td><td>0.038</td></tr>\n",
       "<tr><td>CTIO V</td><td>0.5517</td><td>2.682</td><td>0.024</td><td>3.24</td><td>0.028</td></tr>\n",
       "<tr><td>CTIO R</td><td>0.652</td><td>2.119</td><td>0.019</td><td>2.634</td><td>0.023</td></tr>\n",
       "<tr><td>CTIO I</td><td>0.8007</td><td>1.516</td><td>0.013</td><td>1.962</td><td>0.017</td></tr>\n",
       "<tr><td>DSS-II g</td><td>0.4621</td><td>3.381</td><td>0.03</td><td>3.907</td><td>0.034</td></tr>\n",
       "<tr><td>DSS-II r</td><td>0.6546</td><td>2.088</td><td>0.018</td><td>2.649</td><td>0.023</td></tr>\n",
       "<tr><td>DSS-II i</td><td>0.8111</td><td>1.487</td><td>0.013</td><td>1.893</td><td>0.017</td></tr>\n",
       "<tr><td>SDSS u</td><td>0.3587</td><td>4.239</td><td>0.037</td><td>5.155</td><td>0.045</td></tr>\n",
       "<tr><td>...</td><td>...</td><td>...</td><td>...</td><td>...</td><td>...</td></tr>\n",
       "<tr><td>UKIRT K</td><td>2.19</td><td>0.302</td><td>0.003</td><td>0.367</td><td>0.003</td></tr>\n",
       "<tr><td>2MASS J</td><td>1.23</td><td>0.723</td><td>0.006</td><td>0.937</td><td>0.008</td></tr>\n",
       "<tr><td>2MASS H</td><td>1.64</td><td>0.46</td><td>0.004</td><td>0.591</td><td>0.005</td></tr>\n",
       "<tr><td>2MASS Ks</td><td>2.16</td><td>0.31</td><td>0.003</td><td>0.382</td><td>0.003</td></tr>\n",
       "<tr><td>IRAC-1</td><td>3.52</td><td>0.178</td><td>0.002</td><td>0.22</td><td>0.002</td></tr>\n",
       "<tr><td>IRAC-2</td><td>4.46</td><td>0.148</td><td>0.001</td><td>0.183</td><td>0.002</td></tr>\n",
       "<tr><td>IRAC-3</td><td>5.66</td><td>0.13</td><td>0.001</td><td>0.162</td><td>0.001</td></tr>\n",
       "<tr><td>IRAC-4</td><td>7.68</td><td>0.122</td><td>0.001</td><td>0.151</td><td>0.001</td></tr>\n",
       "<tr><td>WISE-1</td><td>3.32</td><td>0.189</td><td>0.002</td><td>0.234</td><td>0.002</td></tr>\n",
       "<tr><td>WISE-2</td><td>4.57</td><td>0.146</td><td>0.001</td><td>0.18</td><td>0.002</td></tr>\n",
       "</table>"
      ],
      "text/plain": [
       "<Table length=25>\n",
       "Filter_name  LamEff A_over_E_B_V_SandF A_SandF A_over_E_B_V_SFD  A_SFD \n",
       "             micron                      mag                      mag  \n",
       "    str8    float64      float64       float64     float64      float64\n",
       "----------- ------- ------------------ ------- ---------------- -------\n",
       "     CTIO U  0.3734              4.107   0.036            4.968   0.044\n",
       "     CTIO B  0.4309              3.641   0.032            4.325   0.038\n",
       "     CTIO V  0.5517              2.682   0.024             3.24   0.028\n",
       "     CTIO R   0.652              2.119   0.019            2.634   0.023\n",
       "     CTIO I  0.8007              1.516   0.013            1.962   0.017\n",
       "   DSS-II g  0.4621              3.381    0.03            3.907   0.034\n",
       "   DSS-II r  0.6546              2.088   0.018            2.649   0.023\n",
       "   DSS-II i  0.8111              1.487   0.013            1.893   0.017\n",
       "     SDSS u  0.3587              4.239   0.037            5.155   0.045\n",
       "        ...     ...                ...     ...              ...     ...\n",
       "    UKIRT K    2.19              0.302   0.003            0.367   0.003\n",
       "    2MASS J    1.23              0.723   0.006            0.937   0.008\n",
       "    2MASS H    1.64               0.46   0.004            0.591   0.005\n",
       "   2MASS Ks    2.16               0.31   0.003            0.382   0.003\n",
       "     IRAC-1    3.52              0.178   0.002             0.22   0.002\n",
       "     IRAC-2    4.46              0.148   0.001            0.183   0.002\n",
       "     IRAC-3    5.66               0.13   0.001            0.162   0.001\n",
       "     IRAC-4    7.68              0.122   0.001            0.151   0.001\n",
       "     WISE-1    3.32              0.189   0.002            0.234   0.002\n",
       "     WISE-2    4.57              0.146   0.001             0.18   0.002"
      ]
     },
     "execution_count": 10,
     "metadata": {},
     "output_type": "execute_result"
    }
   ],
   "source": [
    "from astroquery.irsa_dust import IrsaDust\n",
    "\n",
    "ext_table = IrsaDust.get_extinction_table('SN 2011fe')\n",
    "ext_table"
   ]
  },
  {
   "cell_type": "markdown",
   "metadata": {
    "slideshow": {
     "slide_type": "subslide"
    }
   },
   "source": [
    "**Exercise 10:**\n",
    "\n",
    "Read the documentation for `astroquery.ned`. Use it to look up the name of the galaxy that hosted the kilonova AT 2017gfo. *(Hint: search for galaxies within 20 arcsec of its position.)* What is its redshift?"
   ]
  },
  {
   "cell_type": "markdown",
   "metadata": {
    "slideshow": {
     "slide_type": "fragment"
    }
   },
   "source": [
    "_Solution:_"
   ]
  },
  {
   "cell_type": "code",
   "execution_count": 11,
   "metadata": {},
   "outputs": [
    {
     "data": {
      "text/html": [
       "<i>Table masked=True length=4</i>\n",
       "<table id=\"table4955825656\" class=\"table-striped table-bordered table-condensed\">\n",
       "<thead><tr><th>No.</th><th>Object Name</th><th>RA</th><th>DEC</th><th>Type</th><th>Velocity</th><th>Redshift</th><th>Redshift Flag</th><th>Magnitude and Filter</th><th>Separation</th><th>References</th><th>Notes</th><th>Photometry Points</th><th>Positions</th><th>Redshift Points</th><th>Diameter Points</th><th>Associations</th></tr></thead>\n",
       "<thead><tr><th></th><th></th><th>degrees</th><th>degrees</th><th></th><th>km / s</th><th></th><th></th><th></th><th>arcmin</th><th></th><th></th><th></th><th></th><th></th><th></th><th></th></tr></thead>\n",
       "<thead><tr><th>int32</th><th>bytes30</th><th>float64</th><th>float64</th><th>object</th><th>float64</th><th>float64</th><th>object</th><th>object</th><th>float64</th><th>int32</th><th>int32</th><th>int32</th><th>int32</th><th>int32</th><th>int32</th><th>int32</th></tr></thead>\n",
       "<tr><td>3</td><td>AT 2017gfo</td><td>197.45038</td><td>-23.38149</td><td>VisS</td><td>--</td><td>--</td><td></td><td></td><td>0.0</td><td>82</td><td>0</td><td>0</td><td>1</td><td>0</td><td>0</td><td>0</td></tr>\n",
       "<tr><td>4</td><td>[PDB2017] J130948.09-232253.3</td><td>197.45038</td><td>-23.38147</td><td>VisS</td><td>--</td><td>--</td><td></td><td></td><td>0.001</td><td>1</td><td>0</td><td>0</td><td>1</td><td>0</td><td>0</td><td>0</td></tr>\n",
       "<tr><td>1</td><td>NGC 4993</td><td>197.44875</td><td>-23.38389</td><td>G</td><td>2916.0</td><td>0.009727</td><td></td><td>13.32</td><td>0.17</td><td>183</td><td>3</td><td>27</td><td>5</td><td>6</td><td>17</td><td>0</td></tr>\n",
       "<tr><td>2</td><td>NGC 4993 GROUP</td><td>197.44875</td><td>-23.38389</td><td>GGroup</td><td>--</td><td>--</td><td></td><td></td><td>0.17</td><td>1</td><td>0</td><td>0</td><td>0</td><td>0</td><td>0</td><td>0</td></tr>\n",
       "</table>"
      ],
      "text/plain": [
       "<Table masked=True length=4>\n",
       " No.           Object Name              RA     ... Diameter Points Associations\n",
       "                                     degrees   ...                             \n",
       "int32            bytes30             float64   ...      int32         int32    \n",
       "----- ----------------------------- ---------- ... --------------- ------------\n",
       "    3                    AT 2017gfo  197.45038 ...               0            0\n",
       "    4 [PDB2017] J130948.09-232253.3  197.45038 ...               0            0\n",
       "    1                      NGC 4993  197.44875 ...              17            0\n",
       "    2                NGC 4993 GROUP  197.44875 ...               0            0"
      ]
     },
     "execution_count": 11,
     "metadata": {},
     "output_type": "execute_result"
    }
   ],
   "source": [
    "from astroquery.ned import Ned\n",
    "import astropy.units as u\n",
    "\n",
    "res = Ned.query_region('AT 2017gfo', 20. * u.arcsec)\n",
    "res.sort('Separation')\n",
    "res"
   ]
  }
 ],
 "metadata": {
  "anaconda-cloud": {},
  "celltoolbar": "Slideshow",
  "kernelspec": {
   "display_name": "Python 3",
   "language": "python",
   "name": "python3"
  },
  "language_info": {
   "codemirror_mode": {
    "name": "ipython",
    "version": 3
   },
   "file_extension": ".py",
   "mimetype": "text/x-python",
   "name": "python",
   "nbconvert_exporter": "python",
   "pygments_lexer": "ipython3",
   "version": "3.7.3"
  }
 },
 "nbformat": 4,
 "nbformat_minor": 1
}
